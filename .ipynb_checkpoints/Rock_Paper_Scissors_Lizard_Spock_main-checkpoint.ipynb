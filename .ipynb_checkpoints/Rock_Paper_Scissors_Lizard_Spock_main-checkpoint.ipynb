{
 "cells": [
  {
   "cell_type": "code",
   "execution_count": 8,
   "id": "65759207",
   "metadata": {},
   "outputs": [],
   "source": [
    "import random\n",
    "import pandas as pd"
   ]
  },
  {
   "cell_type": "code",
   "execution_count": 11,
   "id": "5044bb52",
   "metadata": {},
   "outputs": [],
   "source": [
    "variables = [\"R\", \"P\", \"Sc\", \"L\", \"Sp\"]\n",
    "\n",
    "game_outputs = {\n",
    "    \"win\": ((\"Sc\", \"P\"), (\"P\", \"R\"), (\"R\", \"L\"), \n",
    "            (\"L\", \"Sp\"), (\"Sp\", \"Sc\"), (\"Sc\", \"L\"), \n",
    "            (\"L\", \"P\"), (\"P\", \"Sp\"), (\"Sp\", \"R\"), (\"R\", \"Sc\"))\n",
    "}\n",
    "\n",
    "def lets_play():\n",
    "    \n",
    "    count_win = 0;\n",
    "    count_tie = 0;\n",
    "    count_loss = 0;\n",
    "\n",
    "    nb_games = int(input(\"Define number of games: \"))\n",
    "    print(\"Define your choice from set: \", end = \" \")\n",
    "    [print(var, end = \" \") for var in variables]\n",
    "    \n",
    "    for nb in range(nb_games):\n",
    "\n",
    "        user_choice = str(input(\"\\nUser choice: \"))\n",
    "        computer_choice = random.choices(variables)\n",
    "        print(\"Computer choice: \", computer_choice[0])\n",
    "\n",
    "        if user_choice == computer_choice[0]:\n",
    "            count_tie += 1;\n",
    "        else:\n",
    "            uc_choice = (user_choice, computer_choice[0])\n",
    "            for i in game_outputs[\"win\"]:\n",
    "                if uc_choice == i:\n",
    "                    count_win += 1;\n",
    "        if (not count_win + count_tie + count_loss - nb):\n",
    "            count_loss += 1;\n",
    "\n",
    "    Statistics = pd.DataFrame({\"Wins\": [count_win], \n",
    "                               \"Ties\": [count_tie], \n",
    "                               \"Losses\": [count_loss]},\n",
    "                             index = [\"Counts\"])\n",
    "    return Statistics"
   ]
  },
  {
   "cell_type": "code",
   "execution_count": 12,
   "id": "26d36582",
   "metadata": {},
   "outputs": [
    {
     "name": "stdout",
     "output_type": "stream",
     "text": [
      "Define number of games: 4\n",
      "Define your choice from set:  R P Sc L Sp \n",
      "User choice: Sp\n",
      "Computer choice:  L\n",
      "\n",
      "User choice: Sp\n",
      "Computer choice:  L\n",
      "\n",
      "User choice: Sp\n",
      "Computer choice:  R\n",
      "\n",
      "User choice: Sp\n",
      "Computer choice:  P\n"
     ]
    },
    {
     "data": {
      "text/html": [
       "<div>\n",
       "<style scoped>\n",
       "    .dataframe tbody tr th:only-of-type {\n",
       "        vertical-align: middle;\n",
       "    }\n",
       "\n",
       "    .dataframe tbody tr th {\n",
       "        vertical-align: top;\n",
       "    }\n",
       "\n",
       "    .dataframe thead th {\n",
       "        text-align: right;\n",
       "    }\n",
       "</style>\n",
       "<table border=\"1\" class=\"dataframe\">\n",
       "  <thead>\n",
       "    <tr style=\"text-align: right;\">\n",
       "      <th></th>\n",
       "      <th>Wins</th>\n",
       "      <th>Ties</th>\n",
       "      <th>Losses</th>\n",
       "    </tr>\n",
       "  </thead>\n",
       "  <tbody>\n",
       "    <tr>\n",
       "      <th>Counts</th>\n",
       "      <td>1</td>\n",
       "      <td>0</td>\n",
       "      <td>3</td>\n",
       "    </tr>\n",
       "  </tbody>\n",
       "</table>\n",
       "</div>"
      ],
      "text/plain": [
       "        Wins  Ties  Losses\n",
       "Counts     1     0       3"
      ]
     },
     "execution_count": 12,
     "metadata": {},
     "output_type": "execute_result"
    }
   ],
   "source": [
    "lets_play()"
   ]
  },
  {
   "cell_type": "code",
   "execution_count": 2,
   "id": "7c0240c7",
   "metadata": {},
   "outputs": [
    {
     "name": "stdout",
     "output_type": "stream",
     "text": [
      "Define your choice from set: R P Sc L Sp \n",
      "User choice: L\n",
      "Computer choice: P\n",
      "        Wins  Ties  Losses\n",
      "Counts     1     0       0\n",
      "\n",
      "Would you like to play once again? (y/n): k\n"
     ]
    }
   ],
   "source": [
    "variables = [\"R\", \"P\", \"Sc\", \"L\", \"Sp\"]\n",
    "\n",
    "game_outputs = {\n",
    "    \"win\": ((\"Sc\", \"P\"), (\"P\", \"R\"), (\"R\", \"L\"), \n",
    "            (\"L\", \"Sp\"), (\"Sp\", \"Sc\"), (\"Sc\", \"L\"), \n",
    "            (\"L\", \"P\"), (\"P\", \"Sp\"), (\"Sp\", \"R\"), (\"R\", \"Sc\"))\n",
    "}\n",
    "\n",
    "def lets_play():\n",
    "    \n",
    "    stats = {\n",
    "        \"Wins\": 0,\n",
    "        \"Ties\": 0,\n",
    "        \"Losses\":0\n",
    "    }\n",
    "\n",
    "    print(\"Define your choice from set:\", end = \" \")\n",
    "    [print(var, end = \" \") for var in variables]\n",
    "\n",
    "    user_choice = str(input(\"\\nUser choice: \"))\n",
    "    \n",
    "    if user_choice not in variables:\n",
    "        print(\"Invalid choice. Choose from:\", end = \" \")\n",
    "        [print(var, end = \" \") for var in variables]\n",
    "        return\n",
    "    \n",
    "    computer_choice = random.choices(variables)\n",
    "    print(f\"Computer choice: {computer_choice[0]}\")\n",
    "\n",
    "    if user_choice == computer_choice[0]:\n",
    "        stats[\"Ties\"] += 1;\n",
    "    else:\n",
    "        uc_choice = (user_choice, computer_choice[0])\n",
    "        for i in game_outputs[\"win\"]:\n",
    "            if uc_choice == i:\n",
    "                stats[\"Wins\"] += 1;\n",
    "    if (not stats[\"Wins\"] + stats[\"Ties\"]):\n",
    "        stats[\"Losses\"] += 1;\n",
    "\n",
    "    Statistics = pd.DataFrame(stats,\n",
    "                             index = [\"Counts\"])\n",
    "    return Statistics\n",
    "\n",
    "while True:\n",
    "    result = lets_play()\n",
    "    print(result)\n",
    "    \n",
    "    play_again = input(\"\\nWould you like to play once again? (y/n): \")\n",
    "    if play_again != \"y\":\n",
    "        break"
   ]
  },
  {
   "cell_type": "code",
   "execution_count": 25,
   "id": "5c215240",
   "metadata": {},
   "outputs": [
    {
     "name": "stdout",
     "output_type": "stream",
     "text": [
      "{'Wins': 0, 'Ties': 0, 'Losses': 0}\n"
     ]
    }
   ],
   "source": [
    "stats = {\n",
    "    \"Wins\": 0,\n",
    "    \"Ties\": 0,\n",
    "    \"Losses\":0\n",
    "}\n",
    "print(stats)"
   ]
  },
  {
   "cell_type": "code",
   "execution_count": 31,
   "id": "e5340c9b",
   "metadata": {},
   "outputs": [
    {
     "ename": "KeyError",
     "evalue": "'Tiees'",
     "output_type": "error",
     "traceback": [
      "\u001b[1;31m---------------------------------------------------------------------------\u001b[0m",
      "\u001b[1;31mKeyError\u001b[0m                                  Traceback (most recent call last)",
      "\u001b[1;32m<ipython-input-31-fb69dc212939>\u001b[0m in \u001b[0;36m<module>\u001b[1;34m\u001b[0m\n\u001b[1;32m----> 1\u001b[1;33m \u001b[0mprint\u001b[0m\u001b[1;33m(\u001b[0m\u001b[0mstats\u001b[0m\u001b[1;33m[\u001b[0m\u001b[1;34m'Tie'\u001b[0m \u001b[1;33m+\u001b[0m \u001b[1;34m'es'\u001b[0m\u001b[1;33m]\u001b[0m\u001b[1;33m)\u001b[0m\u001b[1;33m\u001b[0m\u001b[1;33m\u001b[0m\u001b[0m\n\u001b[0m",
      "\u001b[1;31mKeyError\u001b[0m: 'Tiees'"
     ]
    }
   ],
   "source": [
    "print(stats['Tie' + 'es'])"
   ]
  }
 ],
 "metadata": {
  "kernelspec": {
   "display_name": "Python 3",
   "language": "python",
   "name": "python3"
  },
  "language_info": {
   "codemirror_mode": {
    "name": "ipython",
    "version": 3
   },
   "file_extension": ".py",
   "mimetype": "text/x-python",
   "name": "python",
   "nbconvert_exporter": "python",
   "pygments_lexer": "ipython3",
   "version": "3.8.8"
  }
 },
 "nbformat": 4,
 "nbformat_minor": 5
}
