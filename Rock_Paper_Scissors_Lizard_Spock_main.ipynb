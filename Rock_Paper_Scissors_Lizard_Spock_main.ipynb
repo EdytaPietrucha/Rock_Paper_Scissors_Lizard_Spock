{
 "cells": [
  {
   "cell_type": "code",
   "execution_count": 1,
   "id": "65759207",
   "metadata": {},
   "outputs": [],
   "source": [
    "import random\n",
    "import pandas as pd"
   ]
  },
  {
   "cell_type": "code",
   "execution_count": 3,
   "id": "5044bb52",
   "metadata": {},
   "outputs": [],
   "source": [
    "variables = [\"R\", \"P\", \"Sc\", \"L\", \"Sp\"]\n",
    "\n",
    "game_outputs = {\n",
    "    \"win\": ((\"Sc\", \"P\"), (\"P\", \"R\"), (\"R\", \"L\"), \n",
    "            (\"L\", \"Sp\"), (\"Sp\", \"Sc\"), (\"Sc\", \"L\"), \n",
    "            (\"L\", \"P\"), (\"P\", \"Sp\"), (\"Sp\", \"R\"), (\"R\", \"Sc\"))\n",
    "}\n",
    "\n",
    "def choice_validity(choice, vars_arr):\n",
    "    if choice not in vars_arr:\n",
    "            print(\"Invalid choice!\")\n",
    "            play_again = input(\"\\nWould you like to continue the game? (y/n): \")\n",
    "            if play_again != \"n\":\n",
    "                user_choice = str(input(\"\\nUser choice: \"));\n",
    "                choice_validity(user_choice, vars_arr);\n",
    "                nb = nb - 1;\n",
    "            else:\n",
    "                break\n",
    "\n",
    "def lets_play():\n",
    "    \n",
    "    stats = {\n",
    "        \"Wins\": 0,\n",
    "        \"Ties\": 0,\n",
    "        \"Losses\":0\n",
    "    }\n",
    "\n",
    "    nb_games = int(input(\"\\nDefine number of games: \"))\n",
    "    print(\"Define your choice from set: \", end = \" \")\n",
    "    [print(var, end = \" \") for var in variables]\n",
    "    \n",
    "    for nb in range(nb_games):\n",
    "\n",
    "        user_choice = str(input(\"\\nUser choice: \"))\n",
    "        if user_choice not in variables:\n",
    "            print(\"Invalid choice!\")\n",
    "            play_again = input(\"\\nWould you like to continue the game? (y/n): \")\n",
    "            if play_again != \"n\":\n",
    "                user_choice = str(input(\"\\nUser choice: \"));\n",
    "                nb = nb - 1;\n",
    "            else:\n",
    "                break\n",
    "    \n",
    "        computer_choice = random.choices(variables)\n",
    "        print(\"Computer choice: \", computer_choice[0])\n",
    "\n",
    "        if user_choice == computer_choice[0]:\n",
    "            stats[\"Ties\"] += 1;\n",
    "        else:\n",
    "            uc_choice = (user_choice, computer_choice[0])\n",
    "            for i in game_outputs[\"win\"]:\n",
    "                if uc_choice == i:\n",
    "                    stats[\"Wins\"] += 1;\n",
    "        if (not stats[\"Wins\"] + stats[\"Ties\"]):\n",
    "            stats[\"Losses\"] += 1;\n",
    "\n",
    "    Statistics = pd.DataFrame(stats,\n",
    "                             index = [\"Counts\"])\n",
    "    return Statistics"
   ]
  },
  {
   "cell_type": "code",
   "execution_count": 60,
   "id": "e8945ba1",
   "metadata": {},
   "outputs": [
    {
     "name": "stdout",
     "output_type": "stream",
     "text": [
      "\n",
      "Define number of games: 3\n",
      "Define your choice from set:  R P Sc L Sp \n",
      "User choice: Sp\n",
      "Computer choice:  R\n",
      "\n",
      "User choice: Spock\n",
      "Invalid choice!\n",
      "\n",
      "Would you like to continue the game? (y/n): y\n",
      "\n",
      "User choice: Sp\n",
      "Computer choice:  Sc\n",
      "\n",
      "User choice: Spock!!!\n",
      "Invalid choice!\n",
      "\n",
      "Would you like to continue the game? (y/n): y\n",
      "\n",
      "User choice: Sp\n",
      "Computer choice:  Sc\n"
     ]
    },
    {
     "data": {
      "text/html": [
       "<div>\n",
       "<style scoped>\n",
       "    .dataframe tbody tr th:only-of-type {\n",
       "        vertical-align: middle;\n",
       "    }\n",
       "\n",
       "    .dataframe tbody tr th {\n",
       "        vertical-align: top;\n",
       "    }\n",
       "\n",
       "    .dataframe thead th {\n",
       "        text-align: right;\n",
       "    }\n",
       "</style>\n",
       "<table border=\"1\" class=\"dataframe\">\n",
       "  <thead>\n",
       "    <tr style=\"text-align: right;\">\n",
       "      <th></th>\n",
       "      <th>Wins</th>\n",
       "      <th>Ties</th>\n",
       "      <th>Losses</th>\n",
       "    </tr>\n",
       "  </thead>\n",
       "  <tbody>\n",
       "    <tr>\n",
       "      <th>Counts</th>\n",
       "      <td>3</td>\n",
       "      <td>0</td>\n",
       "      <td>0</td>\n",
       "    </tr>\n",
       "  </tbody>\n",
       "</table>\n",
       "</div>"
      ],
      "text/plain": [
       "        Wins  Ties  Losses\n",
       "Counts     3     0       0"
      ]
     },
     "execution_count": 60,
     "metadata": {},
     "output_type": "execute_result"
    }
   ],
   "source": [
    "lets_play()"
   ]
  },
  {
   "cell_type": "code",
   "execution_count": 6,
   "id": "3451d98c",
   "metadata": {},
   "outputs": [
    {
     "name": "stdout",
     "output_type": "stream",
     "text": [
      "\n",
      "Define number of games: 2\n",
      "Define your choice from set:  R P Sc L Sp \n",
      "User choice: m,\n",
      "Invalid choice!\n",
      "\n",
      "Would you like to continue the game? (y/n): y\n",
      "\n",
      "User choice: P\n",
      "Computer choice:  Sc\n",
      "\n",
      "User choice: km\n",
      "Invalid choice!\n",
      "\n",
      "Would you like to continue the game? (y/n): y\n",
      "\n",
      "User choice: bjs\n",
      "Computer choice:  P\n"
     ]
    },
    {
     "data": {
      "text/html": [
       "<div>\n",
       "<style scoped>\n",
       "    .dataframe tbody tr th:only-of-type {\n",
       "        vertical-align: middle;\n",
       "    }\n",
       "\n",
       "    .dataframe tbody tr th {\n",
       "        vertical-align: top;\n",
       "    }\n",
       "\n",
       "    .dataframe thead th {\n",
       "        text-align: right;\n",
       "    }\n",
       "</style>\n",
       "<table border=\"1\" class=\"dataframe\">\n",
       "  <thead>\n",
       "    <tr style=\"text-align: right;\">\n",
       "      <th></th>\n",
       "      <th>Wins</th>\n",
       "      <th>Ties</th>\n",
       "      <th>Losses</th>\n",
       "    </tr>\n",
       "  </thead>\n",
       "  <tbody>\n",
       "    <tr>\n",
       "      <th>Counts</th>\n",
       "      <td>0</td>\n",
       "      <td>0</td>\n",
       "      <td>2</td>\n",
       "    </tr>\n",
       "  </tbody>\n",
       "</table>\n",
       "</div>"
      ],
      "text/plain": [
       "        Wins  Ties  Losses\n",
       "Counts     0     0       2"
      ]
     },
     "execution_count": 6,
     "metadata": {},
     "output_type": "execute_result"
    }
   ],
   "source": [
    "lets_play()"
   ]
  },
  {
   "cell_type": "code",
   "execution_count": 96,
   "id": "b96657d6",
   "metadata": {},
   "outputs": [],
   "source": [
    "def choice_validity(choice, vars_arr):\n",
    "    play_again = \"y\";\n",
    "    if choice not in vars_arr:\n",
    "        print(\"Invalid choice!\")\n",
    "        play_again = input(\"\\nWould you like to continue the game? (y/n): \")\n",
    "        if play_again != \"n\":\n",
    "            choice = str(input(\"\\nUser choice: \"));\n",
    "            choice_validity(choice, vars_arr);\n",
    "    return [choice, play_again]"
   ]
  },
  {
   "cell_type": "code",
   "execution_count": 95,
   "id": "d1cd72f0",
   "metadata": {},
   "outputs": [
    {
     "name": "stdout",
     "output_type": "stream",
     "text": [
      "Invalid choice!\n",
      "\n",
      "Would you like to continue the game? (y/n): y\n",
      "\n",
      "User choice: Spock2\n",
      "Invalid choice!\n",
      "\n",
      "Would you like to continue the game? (y/n): Spock3\n",
      "\n",
      "User choice: Spock3\n",
      "Invalid choice!\n",
      "\n",
      "Would you like to continue the game? (y/n): y\n",
      "\n",
      "User choice: Sp\n"
     ]
    },
    {
     "data": {
      "text/plain": [
       "['Spock2', 'y']"
      ]
     },
     "execution_count": 95,
     "metadata": {},
     "output_type": "execute_result"
    }
   ],
   "source": [
    "choice_validity(\"Spock1\", variables)"
   ]
  }
 ],
 "metadata": {
  "kernelspec": {
   "display_name": "Python 3",
   "language": "python",
   "name": "python3"
  },
  "language_info": {
   "codemirror_mode": {
    "name": "ipython",
    "version": 3
   },
   "file_extension": ".py",
   "mimetype": "text/x-python",
   "name": "python",
   "nbconvert_exporter": "python",
   "pygments_lexer": "ipython3",
   "version": "3.8.8"
  }
 },
 "nbformat": 4,
 "nbformat_minor": 5
}
