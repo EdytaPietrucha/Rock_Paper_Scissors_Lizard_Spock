{
 "cells": [
  {
   "cell_type": "code",
   "execution_count": 52,
   "id": "65759207",
   "metadata": {},
   "outputs": [],
   "source": [
    "import random\n",
    "import pandas as pd"
   ]
  },
  {
   "cell_type": "code",
   "execution_count": 67,
   "id": "5044bb52",
   "metadata": {},
   "outputs": [],
   "source": [
    "variables = [\"R\", \"P\", \"Sc\", \"L\", \"Sp\"]\n",
    "\n",
    "game_outputs = {\n",
    "    \"win\": ((\"Sc\", \"P\"), (\"P\", \"R\"), (\"R\", \"L\"), \n",
    "            (\"L\", \"Sp\"), (\"Sp\", \"Sc\"), (\"Sc\", \"L\"), \n",
    "            (\"L\", \"P\"), (\"P\", \"Sp\"), (\"Sp\", \"R\"), (\"R\", \"Sc\"))\n",
    "}\n",
    "\n",
    "def lets_play():\n",
    "    \n",
    "    count_win = 0;\n",
    "    count_tie = 0;\n",
    "    count_loss = 0;\n",
    "\n",
    "    nb_games = int(input(\"Define number of games: \"))\n",
    "    print(\"Define your choice from set:\", end = \" \")\n",
    "    [print(var, end = \" \") for var in variables]\n",
    "    \n",
    "    for nb in range(nb_games):\n",
    "\n",
    "        user_choice = str(input(\"\\nuser choice: \"))\n",
    "        computer_choice = random.choices(variables)\n",
    "        print(\"computer choice: \", computer_choice[0])\n",
    "\n",
    "        if user_choice == computer_choice[0]:\n",
    "            count_tie += 1;\n",
    "        else:\n",
    "            uc_choice = (user_choice, computer_choice[0])\n",
    "            for i in game_outputs[\"win\"]:\n",
    "                if uc_choice == i:\n",
    "                    count_win += 1;\n",
    "        if (not count_win + count_tie + count_loss - nb):\n",
    "            count_loss += 1;\n",
    "\n",
    "    Statistics = pd.DataFrame({\"Wins\": [count_win], \n",
    "                               \"Ties\": [count_tie], \n",
    "                               \"Losses\": [count_loss]},\n",
    "                             index = [\"Counts\"])\n",
    "    return Statistics"
   ]
  },
  {
   "cell_type": "code",
   "execution_count": 64,
   "id": "93e10694",
   "metadata": {},
   "outputs": [
    {
     "name": "stdout",
     "output_type": "stream",
     "text": [
      "Define number of games: 4\n",
      "Define your choice from set: R P Sc L Sp \n",
      "user choice: P\n",
      "computer choice:  P\n",
      "\n",
      "user choice: R\n",
      "computer choice:  R\n",
      "\n",
      "user choice: Sc\n",
      "computer choice:  Sc\n",
      "\n",
      "user choice: Sp\n",
      "computer choice:  Sc\n"
     ]
    },
    {
     "data": {
      "text/html": [
       "<div>\n",
       "<style scoped>\n",
       "    .dataframe tbody tr th:only-of-type {\n",
       "        vertical-align: middle;\n",
       "    }\n",
       "\n",
       "    .dataframe tbody tr th {\n",
       "        vertical-align: top;\n",
       "    }\n",
       "\n",
       "    .dataframe thead th {\n",
       "        text-align: right;\n",
       "    }\n",
       "</style>\n",
       "<table border=\"1\" class=\"dataframe\">\n",
       "  <thead>\n",
       "    <tr style=\"text-align: right;\">\n",
       "      <th></th>\n",
       "      <th>Wins</th>\n",
       "      <th>Ties</th>\n",
       "      <th>Losses</th>\n",
       "    </tr>\n",
       "  </thead>\n",
       "  <tbody>\n",
       "    <tr>\n",
       "      <th>Counts</th>\n",
       "      <td>1</td>\n",
       "      <td>3</td>\n",
       "      <td>0</td>\n",
       "    </tr>\n",
       "  </tbody>\n",
       "</table>\n",
       "</div>"
      ],
      "text/plain": [
       "        Wins  Ties  Losses\n",
       "Counts     1     3       0"
      ]
     },
     "execution_count": 64,
     "metadata": {},
     "output_type": "execute_result"
    }
   ],
   "source": [
    "variables = [\"R\", \"P\", \"Sc\", \"L\", \"Sp\"]\n",
    "\n",
    "game_outputs = { \n",
    "    \"win\": ((\"Sc\", \"P\"), (\"P\", \"R\"), (\"R\", \"L\"), \n",
    "            (\"L\", \"Sp\"), (\"Sp\", \"Sc\"), (\"Sc\", \"L\"), \n",
    "            (\"L\", \"P\"), (\"P\", \"Sp\"), (\"Sp\", \"R\"), (\"R\", \"Sc\")) \n",
    "}\n",
    "\n",
    "count_win = 0; count_tie = 0; count_loss = 0;\n",
    "\n",
    "nb_games = int(input(\"Define number of games: \")) \n",
    "print(\"Define your choice from set:\", end = \" \")\n",
    "[print(var, end = \" \") for var in variables]\n",
    "\n",
    "for nb in range(nb_games):\n",
    "    \n",
    "    user_choice = str(input(\"\\nuser choice: \"))\n",
    "    computer_choice = random.choices(variables)\n",
    "    print(\"computer choice: \", computer_choice[0])\n",
    "\n",
    "    if user_choice == computer_choice[0]:\n",
    "        count_tie += 1;\n",
    "    else:\n",
    "        uc_choice = (user_choice, computer_choice[0])\n",
    "        for i in game_outputs[\"win\"]:\n",
    "            if uc_choice == i:\n",
    "                count_win += 1;\n",
    "    if (not count_win + count_tie + count_loss - nb):\n",
    "        count_loss += 1;\n",
    "        \n",
    "Statistics = pd.DataFrame({\n",
    "    \"Wins\": [count_win], \n",
    "    \"Ties\": [count_tie], \n",
    "    \"Losses\": [count_loss]}, \n",
    "    index = [\"Counts\"]) \n",
    "Statistics"
   ]
  },
  {
   "cell_type": "code",
   "execution_count": 68,
   "id": "e249421a",
   "metadata": {},
   "outputs": [
    {
     "name": "stdout",
     "output_type": "stream",
     "text": [
      "Define number of games: 2\n",
      "Define your choice from set: R P Sc L Sp \n",
      "user choice: L\n",
      "computer choice:  Sp\n",
      "\n",
      "user choice: L\n",
      "computer choice:  R\n"
     ]
    },
    {
     "data": {
      "text/html": [
       "<div>\n",
       "<style scoped>\n",
       "    .dataframe tbody tr th:only-of-type {\n",
       "        vertical-align: middle;\n",
       "    }\n",
       "\n",
       "    .dataframe tbody tr th {\n",
       "        vertical-align: top;\n",
       "    }\n",
       "\n",
       "    .dataframe thead th {\n",
       "        text-align: right;\n",
       "    }\n",
       "</style>\n",
       "<table border=\"1\" class=\"dataframe\">\n",
       "  <thead>\n",
       "    <tr style=\"text-align: right;\">\n",
       "      <th></th>\n",
       "      <th>Wins</th>\n",
       "      <th>Ties</th>\n",
       "      <th>Losses</th>\n",
       "    </tr>\n",
       "  </thead>\n",
       "  <tbody>\n",
       "    <tr>\n",
       "      <th>Counts</th>\n",
       "      <td>1</td>\n",
       "      <td>0</td>\n",
       "      <td>1</td>\n",
       "    </tr>\n",
       "  </tbody>\n",
       "</table>\n",
       "</div>"
      ],
      "text/plain": [
       "        Wins  Ties  Losses\n",
       "Counts     1     0       1"
      ]
     },
     "execution_count": 68,
     "metadata": {},
     "output_type": "execute_result"
    }
   ],
   "source": [
    "lets_play()"
   ]
  }
 ],
 "metadata": {
  "kernelspec": {
   "display_name": "Python 3",
   "language": "python",
   "name": "python3"
  },
  "language_info": {
   "codemirror_mode": {
    "name": "ipython",
    "version": 3
   },
   "file_extension": ".py",
   "mimetype": "text/x-python",
   "name": "python",
   "nbconvert_exporter": "python",
   "pygments_lexer": "ipython3",
   "version": "3.8.8"
  }
 },
 "nbformat": 4,
 "nbformat_minor": 5
}
